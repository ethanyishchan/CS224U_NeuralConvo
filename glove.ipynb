{
 "cells": [
  {
   "cell_type": "code",
   "execution_count": 8,
   "metadata": {
    "collapsed": false
   },
   "outputs": [],
   "source": [
    "import os\n",
    "import sys\n",
    "import csv\n",
    "import random\n",
    "import itertools\n",
    "from operator import itemgetter\n",
    "from collections import defaultdict\n",
    "import numpy as np\n",
    "import scipy\n",
    "import scipy.spatial.distance\n",
    "from numpy.linalg import svd\n",
    "import matplotlib.pyplot as plt\n",
    "from sklearn.decomposition import PCA\n",
    "from sklearn.manifold import TSNE\n",
    "import utils"
   ]
  },
  {
   "cell_type": "code",
   "execution_count": 12,
   "metadata": {
    "collapsed": true
   },
   "outputs": [],
   "source": [
    "GLOVE = utils.glove2dict(os.path.join(\"glove.6B\", 'glove.6B.300d.txt'))"
   ]
  },
  {
   "cell_type": "code",
   "execution_count": 18,
   "metadata": {
    "collapsed": false,
    "scrolled": true
   },
   "outputs": [
    {
     "name": "stdout",
     "output_type": "stream",
     "text": [
      "[  4.65600000e-02   2.13180000e-01  -7.43640000e-03  -4.58540000e-01\n",
      "  -3.56390000e-02   2.36430000e-01  -2.88360000e-01   2.15210000e-01\n",
      "  -1.34860000e-01  -1.64130000e+00  -2.60910000e-01   3.24340000e-02\n",
      "   5.66210000e-02  -4.32960000e-02  -2.16720000e-02   2.24760000e-01\n",
      "  -7.51290000e-02  -6.70180000e-02  -1.42470000e-01   3.88250000e-02\n",
      "  -1.89510000e-01   2.99770000e-01   3.93050000e-01   1.78870000e-01\n",
      "  -1.73430000e-01  -2.11780000e-01   2.36170000e-01  -6.36810000e-02\n",
      "  -4.23180000e-01  -1.16610000e-01   9.37540000e-02   1.72960000e-01\n",
      "  -3.30730000e-01   4.91120000e-01  -6.89950000e-01  -9.24620000e-02\n",
      "   2.47420000e-01  -1.79910000e-01   9.79080000e-02   8.31180000e-02\n",
      "   1.52990000e-01  -2.72760000e-01  -3.89340000e-02   5.44530000e-01\n",
      "   5.37370000e-01   2.91050000e-01  -7.35140000e-03   4.78800000e-02\n",
      "  -4.07600000e-01  -2.67590000e-02   1.79190000e-01   1.09770000e-02\n",
      "  -1.09630000e-01  -2.63950000e-01   7.39900000e-02   2.62360000e-01\n",
      "  -1.50800000e-01   3.46230000e-01   2.57580000e-01   1.19710000e-01\n",
      "  -3.71350000e-02  -7.15930000e-02   4.38980000e-01  -4.07640000e-02\n",
      "   1.64250000e-02  -4.46400000e-01   1.71970000e-01   4.62460000e-02\n",
      "   5.86390000e-02   4.14990000e-02   5.39480000e-01   5.24950000e-01\n",
      "   1.13610000e-01  -4.83150000e-02  -3.63850000e-01   1.87040000e-01\n",
      "   9.27610000e-02  -1.11290000e-01  -4.20850000e-01   1.39920000e-01\n",
      "  -3.93380000e-01  -6.79450000e-02   1.21880000e-01   1.67070000e-01\n",
      "   7.51690000e-02  -1.55290000e-02  -1.94990000e-01   1.96380000e-01\n",
      "   5.31940000e-02   2.51700000e-01  -3.48450000e-01  -1.06380000e-01\n",
      "  -3.46920000e-01  -1.90240000e-01  -2.00400000e-01   1.21540000e-01\n",
      "  -2.92080000e-01   2.33530000e-02  -1.16180000e-01  -3.57680000e-01\n",
      "   6.23040000e-02   3.58840000e-01   2.90600000e-02   7.30050000e-03\n",
      "   4.94820000e-03  -1.50480000e-01  -1.23130000e-01   1.93370000e-01\n",
      "   1.21730000e-01   4.45030000e-01   2.51470000e-01   1.07810000e-01\n",
      "  -1.77160000e-01   3.86910000e-02   8.15300000e-02   1.46670000e-01\n",
      "   6.36660000e-02   6.13320000e-02  -7.55690000e-02  -3.77240000e-01\n",
      "   1.58500000e-02  -3.03420000e-01   2.83740000e-01  -4.20130000e-02\n",
      "  -4.07150000e-02  -1.52690000e-01   7.49800000e-02   1.55770000e-01\n",
      "   1.04330000e-01   3.13930000e-01   1.93090000e-01   1.94290000e-01\n",
      "   1.51850000e-01  -1.01920000e-01  -1.87850000e-02   2.07910000e-01\n",
      "   1.33660000e-01   1.90380000e-01  -2.55580000e-01   3.04000000e-01\n",
      "  -1.89600000e-02   2.01470000e-01  -4.21100000e-01  -7.51560000e-03\n",
      "  -2.79770000e-01  -1.93140000e-01   4.62040000e-02   1.99710000e-01\n",
      "  -3.02070000e-01   2.57350000e-01   6.81070000e-01  -1.94090000e-01\n",
      "   2.39840000e-01   2.24930000e-01   6.52240000e-01  -1.35610000e-01\n",
      "  -1.73830000e-01  -4.82090000e-02  -1.18600000e-01   2.15880000e-03\n",
      "  -1.95250000e-02   1.19480000e-01   1.93460000e-01  -4.08200000e-01\n",
      "  -8.29660000e-02   1.66260000e-01  -1.06010000e-01   3.58610000e-01\n",
      "   1.69220000e-01   7.25900000e-02  -2.48030000e-01  -1.00240000e-01\n",
      "  -5.24910000e-01  -1.77450000e-01  -3.66470000e-01   2.61800000e-01\n",
      "  -1.20770000e-02   8.31900000e-02  -2.15280000e-01   4.10450000e-01\n",
      "   2.91360000e-01   3.08690000e-01   7.88640000e-02   3.22070000e-01\n",
      "  -4.10230000e-02  -1.09700000e-01  -9.20410000e-02  -1.23390000e-01\n",
      "  -1.64160000e-01   3.53820000e-01  -8.27740000e-02   3.31710000e-01\n",
      "  -2.47380000e-01  -4.89280000e-02   1.57460000e-01   1.89880000e-01\n",
      "  -2.66420000e-02   6.33150000e-02  -1.06730000e-02   3.40890000e-01\n",
      "   1.41060000e+00   1.34170000e-01   2.81910000e-01  -2.59400000e-01\n",
      "   5.52670000e-02  -5.24250000e-02  -2.57890000e-01   1.91270000e-02\n",
      "  -2.20840000e-02   3.21130000e-01   6.88180000e-02   5.12070000e-01\n",
      "   1.64780000e-01  -2.01940000e-01   2.92320000e-01   9.85750000e-02\n",
      "   1.31450000e-02  -1.06520000e-01   1.35100000e-01  -4.53320000e-02\n",
      "   2.06970000e-01  -4.84250000e-01  -4.47060000e-01   3.33050000e-03\n",
      "   2.92640000e-03  -1.09750000e-01  -2.33250000e-01   2.24420000e-01\n",
      "  -1.05030000e-01   1.23390000e-01   1.09780000e-01   4.89940000e-02\n",
      "  -2.51570000e-01   4.03190000e-01   3.53180000e-01   1.86510000e-01\n",
      "  -2.36220000e-02  -1.27340000e-01   1.14750000e-01   2.73590000e-01\n",
      "  -2.18660000e-01   1.57940000e-02   8.17540000e-01  -2.37920000e-02\n",
      "  -8.54690000e-01  -1.62030000e-01   1.80760000e-01   2.80140000e-02\n",
      "  -1.43400000e-01   1.31390000e-03  -9.17350000e-02  -8.97040000e-02\n",
      "   1.11050000e-01  -1.67030000e-01   6.83770000e-02  -8.73880000e-02\n",
      "  -3.97890000e-02   1.41840000e-02   2.11870000e-01   2.85790000e-01\n",
      "  -2.87970000e-01  -5.89960000e-02  -3.24360000e-02  -4.70090000e-03\n",
      "  -1.70520000e-01  -3.47410000e-02  -1.14890000e-01   7.50930000e-02\n",
      "   9.95260000e-02   4.81830000e-02  -7.37750000e-02  -4.18170000e-01\n",
      "   4.12680000e-03   4.44140000e-01  -1.60620000e-01   1.42940000e-01\n",
      "  -2.26280000e+00  -2.73470000e-02   8.13110000e-01   7.74170000e-01\n",
      "  -2.56390000e-01  -1.15760000e-01  -1.19820000e-01  -2.13630000e-01\n",
      "   2.84290000e-02   2.72610000e-01   3.10260000e-02   9.67820000e-02\n",
      "   6.77690000e-03   1.40820000e-01  -1.30640000e-02  -2.96860000e-01\n",
      "  -7.99130000e-02   1.95000000e-01   3.15490000e-02   2.85060000e-01\n",
      "  -8.74610000e-02   9.06110000e-03  -2.09890000e-01   5.39130000e-02]\n"
     ]
    }
   ],
   "source": [
    "def randvec(w, n=50, lower=-0.5, upper=0.5):\n",
    "    \"\"\"Returns a random vector of length `n`. `w` is ignored.\"\"\"\n",
    "    return np.array([random.uniform(lower, upper) for i in range(n)])\n",
    "\n",
    "def getGloveVec(w):    \n",
    "    \"\"\"Return `w`'s GloVe representation if available, else return \n",
    "    a random vector.\"\"\"\n",
    "    return GLOVE.get(w, randvec(w, n=300))\n",
    "\n",
    "print getGloveVec('the')"
   ]
  },
  {
   "cell_type": "code",
   "execution_count": 19,
   "metadata": {
    "collapsed": false
   },
   "outputs": [
    {
     "data": {
      "text/plain": [
       "0.5520516129306314"
      ]
     },
     "execution_count": 19,
     "metadata": {},
     "output_type": "execute_result"
    }
   ],
   "source": [
    "import os\n",
    "import random\n",
    "from collections import Counter\n",
    "import numpy as np\n",
    "import utils\n",
    "from random import shuffle\n",
    "import nltk.translate\n",
    "\n",
    "hyp1 = ['It', 'is', 'a', 'guide', 'to', 'action', 'which', 'ensures', 'that', 'the', 'military', 'always', 'obeys', 'the', 'commands', 'of', 'the', 'party']\n",
    "ref1a = ['It', 'is', 'a', 'guide', 'to', 'action', 'that', 'ensures', 'that', 'the', 'military', 'will', 'forever', 'heed', 'Party', 'commands']\n",
    "ref1b = ['It', 'is', 'the', 'guiding', 'principle', 'which', 'guarantees', 'the', 'military', 'forces', 'always', 'being', 'under', 'the', 'command', 'of', 'the', 'Party']\n",
    "ref1c = ['It', 'is', 'the', 'practical', 'guide', 'for', 'the', 'army', 'always', 'to', 'heed', 'the', 'directions', 'of', 'the', 'party']\n",
    "    \n",
    "hyp2 = ['he', 'read', 'the', 'book', 'because', 'he', 'was', 'interested', 'in', 'world', 'history']\n",
    "ref2a = ['he', 'was', 'interested', 'in', 'world', 'history', 'because', 'he', 'read', 'the', 'book']\n",
    "list_of_references = [[ref1a, ref1b, ref1c], [ref2a]]\n",
    "hypotheses = [hyp1, hyp2]\n",
    "nltk.translate.bleu_score.corpus_bleu(list_of_references, hypotheses)"
   ]
  },
  {
   "cell_type": "code",
   "execution_count": 20,
   "metadata": {
    "collapsed": false
   },
   "outputs": [
    {
     "name": "stdout",
     "output_type": "stream",
     "text": [
      "['Counter', 'Fraction', 'SmoothingFunction', '__builtins__', '__doc__', '__file__', '__name__', '__package__', '_brevity_penalty', '_closest_ref_length', '_modified_precision', 'corpus_bleu', 'division', 'math', 'ngrams', 'sentence_bleu']\n"
     ]
    }
   ],
   "source": [
    "print dir(nltk.translate.bleu_score)"
   ]
  },
  {
   "cell_type": "code",
   "execution_count": null,
   "metadata": {
    "collapsed": true
   },
   "outputs": [],
   "source": []
  }
 ],
 "metadata": {
  "kernelspec": {
   "display_name": "Python 2",
   "language": "python",
   "name": "python2"
  },
  "language_info": {
   "codemirror_mode": {
    "name": "ipython",
    "version": 2
   },
   "file_extension": ".py",
   "mimetype": "text/x-python",
   "name": "python",
   "nbconvert_exporter": "python",
   "pygments_lexer": "ipython2",
   "version": "2.7.11"
  }
 },
 "nbformat": 4,
 "nbformat_minor": 0
}
