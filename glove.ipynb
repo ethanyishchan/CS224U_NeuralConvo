{
 "cells": [
  {
   "cell_type": "code",
   "execution_count": 21,
   "metadata": {
    "collapsed": false
   },
   "outputs": [],
   "source": [
    "import os\n",
    "import sys\n",
    "import csv\n",
    "import random\n",
    "import itertools\n",
    "from operator import itemgetter\n",
    "from collections import defaultdict\n",
    "import numpy as np\n",
    "import scipy\n",
    "import scipy.spatial.distance\n",
    "from numpy.linalg import svd\n",
    "import matplotlib.pyplot as plt\n",
    "from sklearn.decomposition import PCA\n",
    "from sklearn.manifold import TSNE\n",
    "import utils"
   ]
  },
  {
   "cell_type": "code",
   "execution_count": 22,
   "metadata": {
    "collapsed": true
   },
   "outputs": [],
   "source": [
    "numDimen = 300\n",
    "gloveFile = 'glove.6B.' + str(numDimen) + 'd.txt'\n",
    "GLOVE = utils.glove2dict(os.path.join('glove.6B', gloveFile))"
   ]
  },
  {
   "cell_type": "code",
   "execution_count": 23,
   "metadata": {
    "collapsed": false,
    "scrolled": true
   },
   "outputs": [],
   "source": [
    "def randvec(n=50, lower=-0.5, upper=0.5):\n",
    "    \"\"\"Returns a random vector of length `n`\"\"\"\n",
    "    return np.array([random.uniform(lower, upper) for i in range(n)])\n",
    "\n",
    "def getGloveVec(w):    \n",
    "    \"\"\"Return `w`'s GloVe representation if available, else return \n",
    "    a random vector.\"\"\"\n",
    "    return GLOVE.get(w, randvec(n=numDimen))\n",
    "\n",
    "def sentenceToGlove(words):\n",
    "    result = [0] * numDimen\n",
    "    for word in words:\n",
    "        result = np.add(result, getGloveVec(word))\n",
    "    return result\n",
    "\n",
    "def getCosineSim(u, v):        \n",
    "    \"\"\"Cosine distance between 1d np.arrays `u` and `v`, which must have \n",
    "    the same dimensionality. Returns a float.\"\"\"\n",
    "    return scipy.spatial.distance.cosine(u, v)"
   ]
  },
  {
   "cell_type": "code",
   "execution_count": 25,
   "metadata": {
    "collapsed": false
   },
   "outputs": [],
   "source": [
    "sourceStrs = {}\n",
    "goldTargetStrs = {}\n",
    "targetStrs = []\n",
    "devIndexes = []\n",
    "vocab = [0]\n",
    "\n",
    "f = open('data/movie_50000.txt')\n",
    "for line in f:\n",
    "    vocab.append(line.rstrip('\\n'))\n",
    "f.close()\n",
    "\n",
    "f = open('data/dev.src_string.txt')\n",
    "for i, line in enumerate(f):\n",
    "    sourceStrs[i+1] = line.strip().split()\n",
    "f.close()\n",
    "\n",
    "f = open('data/dev.tgt_string.txt')\n",
    "for i, line in enumerate(f):\n",
    "    goldTargetStrs[i+1] = line.strip().split()\n",
    "f.close()\n",
    "\n",
    "f = open('data/index_dev.txt')\n",
    "for line in f:\n",
    "    devIndexes.append(int(line.rstrip('\\n')))\n",
    "f.close()\n",
    "\n",
    "f = open('data/rearank_target_dev.txt')\n",
    "for line in f:\n",
    "    words = []\n",
    "    vocabIndexes = line.strip().split()\n",
    "    for index in vocabIndexes:\n",
    "        words.append(vocab[int(index)])\n",
    "    targetStrs.append(words)\n",
    "f.close()"
   ]
  },
  {
   "cell_type": "code",
   "execution_count": 54,
   "metadata": {
    "collapsed": false
   },
   "outputs": [
    {
     "name": "stdout",
     "output_type": "stream",
     "text": [
      "['archer', ',', 'you', 'promised', 'me', 'i', 'wouldn\"', 't', 'have', 'to', 'go', 'through', 'that', 'again', '.']\n",
      "['l\"', 'm', 'not', 'going', 'to', 'let', 'that', 'happen', '.']\n",
      "0.0890196760573\n",
      "['archer', ',', 'you', 'promised', 'me', 'i', 'wouldn\"', 't', 'have', 'to', 'go', 'through', 'that', 'again', '.']\n",
      "['you\"', 're', 'not', 'going', 'to', 'believe', 'this', '.']\n",
      "0.0987098357982\n",
      "['archer', ',', 'you', 'promised', 'me', 'i', 'wouldn\"', 't', 'have', 'to', 'go', 'through', 'that', 'again', '.']\n",
      "['if', 'you\"', 'il', 'excuse', 'me', ',', 'l\"', 'm', 'going', 'to', 'have', 'to', 'ask', 'you', 'to', 'leave', '.']\n",
      "0.0762550578551\n",
      "['archer', ',', 'you', 'promised', 'me', 'i', 'wouldn\"', 't', 'have', 'to', 'go', 'through', 'that', 'again', '.']\n",
      "['l\"', 'm', 'sorry', ',', 'captain', '.']\n",
      "0.310326531587\n",
      "['l\"', 'm', 'not', 'going', 'to', 'let', 'that', 'happen', '.']\n",
      "['l\"', 'm', 'going', 'to', 'have', 'to', 'break', 'that', 'promise', '.']\n",
      "0.0770285154888\n",
      "['you\"', 're', 'not', 'going', 'to', 'believe', 'this', '.']\n",
      "['l\"', 'm', 'going', 'to', 'have', 'to', 'break', 'that', 'promise', '.']\n",
      "0.10147312456\n",
      "['if', 'you\"', 'il', 'excuse', 'me', ',', 'l\"', 'm', 'going', 'to', 'have', 'to', 'ask', 'you', 'to', 'leave', '.']\n",
      "['l\"', 'm', 'going', 'to', 'have', 'to', 'break', 'that', 'promise', '.']\n",
      "0.0884092921477\n",
      "['l\"', 'm', 'sorry', ',', 'captain', '.']\n",
      "['l\"', 'm', 'going', 'to', 'have', 'to', 'break', 'that', 'promise', '.']\n",
      "0.341546828317\n"
     ]
    }
   ],
   "source": [
    "srcGloveDistances = []\n",
    "for i, target in enumerate(targetStrs):\n",
    "    source = sourceStrs[devIndexes[i]]\n",
    "    cosineSim = getCosineSim(sentenceToGlove(source), sentenceToGlove(target))\n",
    "    srcGloveDistances.append(cosineSim)\n",
    "    \n",
    "    print source\n",
    "    print target\n",
    "    print cosineSim\n",
    "    \n",
    "    if i == 3: break\n",
    "            \n",
    "tgtGloveDistances = []\n",
    "for i, target in enumerate(targetStrs):\n",
    "    goldTarget = goldTargetStrs[devIndexes[i]]\n",
    "    cosineSim = getCosineSim(sentenceToGlove(goldTarget), sentenceToGlove(target))\n",
    "    tgtGloveDistances.append(cosineSim)\n",
    "    \n",
    "    print target\n",
    "    print goldTarget\n",
    "    print cosineSim\n",
    "    \n",
    "    if i == 3: break"
   ]
  },
  {
   "cell_type": "code",
   "execution_count": 40,
   "metadata": {
    "collapsed": false
   },
   "outputs": [],
   "source": [
    "# np.savetxt(\"dev_src_glove_dist.txt\", srcGloveDistances)\n",
    "# np.savetxt(\"dev_tgt_glove_dist.txt\", tgtGloveDistances)"
   ]
  }
 ],
 "metadata": {
  "kernelspec": {
   "display_name": "Python 2",
   "language": "python",
   "name": "python2"
  },
  "language_info": {
   "codemirror_mode": {
    "name": "ipython",
    "version": 2
   },
   "file_extension": ".py",
   "mimetype": "text/x-python",
   "name": "python",
   "nbconvert_exporter": "python",
   "pygments_lexer": "ipython2",
   "version": "2.7.11"
  }
 },
 "nbformat": 4,
 "nbformat_minor": 0
}
