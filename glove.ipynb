{
 "cells": [
  {
   "cell_type": "code",
   "execution_count": 2,
   "metadata": {
    "collapsed": false
   },
   "outputs": [],
   "source": [
    "import os\n",
    "import sys\n",
    "import csv\n",
    "import random\n",
    "import itertools\n",
    "from operator import itemgetter\n",
    "from collections import defaultdict\n",
    "import numpy as np\n",
    "import scipy\n",
    "import scipy.spatial.distance\n",
    "from numpy.linalg import svd\n",
    "import matplotlib.pyplot as plt\n",
    "from sklearn.decomposition import PCA\n",
    "from sklearn.manifold import TSNE\n",
    "import utils"
   ]
  },
  {
   "cell_type": "code",
   "execution_count": 3,
   "metadata": {
    "collapsed": false
   },
   "outputs": [],
   "source": [
    "numDimen = 300\n",
    "gloveFile = 'glove.6B.' + str(numDimen) + 'd.txt'\n",
    "GLOVE = utils.glove2dict(os.path.join('glove.6B', gloveFile))"
   ]
  },
  {
   "cell_type": "code",
   "execution_count": 4,
   "metadata": {
    "collapsed": false,
    "scrolled": true
   },
   "outputs": [],
   "source": [
    "def randvec(n=50, lower=-0.5, upper=0.5):\n",
    "    \"\"\"Returns a random vector of length `n`\"\"\"\n",
    "    return np.array([random.uniform(lower, upper) for i in range(n)])\n",
    "\n",
    "def getGloveVec(w):    \n",
    "    \"\"\"Return `w`'s GloVe representation if available, else return \n",
    "    a random vector.\"\"\"\n",
    "    return GLOVE.get(w, randvec(n=numDimen))\n",
    "\n",
    "def sentenceToGlove(words):\n",
    "    result = [0] * numDimen\n",
    "    for word in words:\n",
    "        result = np.add(result, getGloveVec(word))\n",
    "    return result\n",
    "\n",
    "def getCosineSim(u, v):        \n",
    "    \"\"\"Cosine distance between 1d np.arrays `u` and `v`, which must have \n",
    "    the same dimensionality. Returns a float.\"\"\"\n",
    "    return scipy.spatial.distance.cosine(u, v)\n",
    "\n",
    "def getL1Dist(u, v):\n",
    "    return scipy.spatial.distance.cityblock(u, v)\n",
    "\n",
    "def getL2Dist(u, v):\n",
    "    return np.linalg.norm(u-v)"
   ]
  },
  {
   "cell_type": "code",
   "execution_count": 5,
   "metadata": {
    "collapsed": false
   },
   "outputs": [],
   "source": [
    "vocab = [0]\n",
    "\n",
    "f = open('data/movie_50000.txt')\n",
    "for line in f:\n",
    "    vocab.append(line.rstrip('\\n'))\n",
    "f.close()"
   ]
  },
  {
   "cell_type": "code",
   "execution_count": 6,
   "metadata": {
    "collapsed": true
   },
   "outputs": [],
   "source": [
    "\"\"\" DEV SIDE \"\"\"\n",
    "sourceStrs = {}\n",
    "goldTgtStrs = {}\n",
    "targetStrs = []\n",
    "indexes = []\n",
    "\n",
    "f = open('data/dev.src_string.txt')\n",
    "for i, line in enumerate(f):\n",
    "    sourceStrs[i+1] = line.strip().split()\n",
    "f.close()\n",
    "\n",
    "f = open('data/dev.tgt_string.txt')\n",
    "for i, line in enumerate(f):\n",
    "    goldTgtStrs[i+1] = line.strip().split()\n",
    "f.close()\n",
    "\n",
    "f = open('data/index_dev.txt')\n",
    "for line in f:\n",
    "    indexes.append(int(line.rstrip('\\n')))\n",
    "f.close()\n",
    "\n",
    "f = open('data/rearank_target_dev.txt')\n",
    "for line in f:\n",
    "    words = []\n",
    "    vocabIndexes = line.strip().split()\n",
    "    for index in vocabIndexes:\n",
    "        words.append(vocab[int(index)])\n",
    "    targetStrs.append(words)\n",
    "f.close()"
   ]
  },
  {
   "cell_type": "code",
   "execution_count": 6,
   "metadata": {
    "collapsed": false
   },
   "outputs": [],
   "source": [
    "devSrcGloveDistances = []\n",
    "devTgtGloveDistances = []\n",
    "source = sourceStrs[indexes[0]]\n",
    "sourceGlove = sentenceToGlove(source)\n",
    "goldTgt = goldTgtStrs[indexes[0]]\n",
    "goldTgtGlove = sentenceToGlove(goldTgt)\n",
    "\n",
    "for i, tgtStr in enumerate(targetStrs):\n",
    "    tgtStrGlove = sentenceToGlove(tgtStr)\n",
    "    if source != sourceStrs[indexes[i]]:\n",
    "        source = sourceStrs[indexes[i]]\n",
    "        sourceGlove = sentenceToGlove(source)\n",
    "        goldTgt = goldTgtStrs[indexes[i]]\n",
    "        goldTgtGlove = sentenceToGlove(goldTgt)\n",
    "    srcCosineSim = getCosineSim(sourceGlove, tgtStrGlove)\n",
    "    devSrcGloveDistances.append(srcCosineSim)\n",
    "    goldTgtCosineSim = getCosineSim(goldTgtGlove, tgtStrGlove)\n",
    "    devTgtGloveDistances.append(goldTgtCosineSim)"
   ]
  },
  {
   "cell_type": "code",
   "execution_count": 7,
   "metadata": {
    "collapsed": false
   },
   "outputs": [],
   "source": [
    "np.savetxt(\"dev_src_glove_dist.txt\", devSrcGloveDistances, fmt='%f')\n",
    "np.savetxt(\"dev_tgt_glove_dist.txt\", devTgtGloveDistances, fmt='%f')"
   ]
  },
  {
   "cell_type": "code",
   "execution_count": 7,
   "metadata": {
    "collapsed": true
   },
   "outputs": [],
   "source": [
    "devSrcL1Distances = []\n",
    "devSrcL2Distances = []\n",
    "devTgtL1Distances = []\n",
    "devTgtL2Distances = []\n",
    "\n",
    "source = sourceStrs[indexes[0]]\n",
    "sourceGlove = sentenceToGlove(source)\n",
    "goldTgt = goldTgtStrs[indexes[0]]\n",
    "goldTgtGlove = sentenceToGlove(goldTgt)\n",
    "\n",
    "for i, tgtStr in enumerate(targetStrs):\n",
    "    tgtStrGlove = sentenceToGlove(tgtStr)\n",
    "    if source != sourceStrs[indexes[i]]:\n",
    "        source = sourceStrs[indexes[i]]\n",
    "        sourceGlove = sentenceToGlove(source)\n",
    "        goldTgt = goldTgtStrs[indexes[i]]\n",
    "        goldTgtGlove = sentenceToGlove(goldTgt)\n",
    "    devSrcL1Distances.append(getL1Dist(sourceGlove, tgtStrGlove))\n",
    "    devSrcL2Distances.append(getL2Dist(sourceGlove, tgtStrGlove))\n",
    "    devTgtL1Distances.append(getL1Dist(goldTgtGlove, tgtStrGlove))\n",
    "    devTgtL2Distances.append(getL2Dist(goldTgtGlove, tgtStrGlove))"
   ]
  },
  {
   "cell_type": "code",
   "execution_count": 8,
   "metadata": {
    "collapsed": true
   },
   "outputs": [],
   "source": [
    "np.savetxt(\"dev_src_L1_dist.txt\", devSrcL1Distances, fmt='%f')\n",
    "np.savetxt(\"dev_src_L2_dist.txt\", devSrcL2Distances, fmt='%f')\n",
    "np.savetxt(\"dev_tgt_L1_dist.txt\", devTgtL1Distances, fmt='%f')\n",
    "np.savetxt(\"dev_tgt_L2_dist.txt\", devTgtL2Distances, fmt='%f')"
   ]
  },
  {
   "cell_type": "code",
   "execution_count": 9,
   "metadata": {
    "collapsed": true
   },
   "outputs": [],
   "source": [
    "\"\"\" TEST SIDE \"\"\"\n",
    "sourceStrs = {}\n",
    "goldTgtStrs = {}\n",
    "targetStrs = []\n",
    "indexes = []\n",
    "\n",
    "f = open('data/test.src_string.txt')\n",
    "for i, line in enumerate(f):\n",
    "    sourceStrs[i+1] = line.strip().split()\n",
    "f.close()\n",
    "\n",
    "f = open('data/test.tgt_string.txt')\n",
    "for i, line in enumerate(f):\n",
    "    goldTgtStrs[i+1] = line.strip().split()\n",
    "f.close()\n",
    "\n",
    "f = open('data/index_valid.txt')\n",
    "for line in f:\n",
    "    indexes.append(int(line.rstrip('\\n')))\n",
    "f.close()\n",
    "\n",
    "f = open('data/rearank_target_valid.txt')\n",
    "for line in f:\n",
    "    words = []\n",
    "    vocabIndexes = line.strip().split()\n",
    "    for index in vocabIndexes:\n",
    "        words.append(vocab[int(index)])\n",
    "    targetStrs.append(words)\n",
    "f.close()"
   ]
  },
  {
   "cell_type": "code",
   "execution_count": 1,
   "metadata": {
    "collapsed": false
   },
   "outputs": [
    {
     "ename": "NameError",
     "evalue": "name 'sourceStrs' is not defined",
     "output_type": "error",
     "traceback": [
      "\u001b[0;31m---------------------------------------------------------------------------\u001b[0m",
      "\u001b[0;31mNameError\u001b[0m                                 Traceback (most recent call last)",
      "\u001b[0;32m<ipython-input-1-f6370d39f0cf>\u001b[0m in \u001b[0;36m<module>\u001b[0;34m()\u001b[0m\n\u001b[1;32m      1\u001b[0m \u001b[0mtestSrcGloveDistances\u001b[0m \u001b[0;34m=\u001b[0m \u001b[0;34m[\u001b[0m\u001b[0;34m]\u001b[0m\u001b[0;34m\u001b[0m\u001b[0m\n\u001b[1;32m      2\u001b[0m \u001b[0mtestTgtGloveDistances\u001b[0m \u001b[0;34m=\u001b[0m \u001b[0;34m[\u001b[0m\u001b[0;34m]\u001b[0m\u001b[0;34m\u001b[0m\u001b[0m\n\u001b[0;32m----> 3\u001b[0;31m \u001b[0msource\u001b[0m \u001b[0;34m=\u001b[0m \u001b[0msourceStrs\u001b[0m\u001b[0;34m[\u001b[0m\u001b[0mindexes\u001b[0m\u001b[0;34m[\u001b[0m\u001b[0;36m0\u001b[0m\u001b[0;34m]\u001b[0m\u001b[0;34m]\u001b[0m\u001b[0;34m\u001b[0m\u001b[0m\n\u001b[0m\u001b[1;32m      4\u001b[0m \u001b[0msourceGlove\u001b[0m \u001b[0;34m=\u001b[0m \u001b[0msentenceToGlove\u001b[0m\u001b[0;34m(\u001b[0m\u001b[0msource\u001b[0m\u001b[0;34m)\u001b[0m\u001b[0;34m\u001b[0m\u001b[0m\n\u001b[1;32m      5\u001b[0m \u001b[0mgoldTgt\u001b[0m \u001b[0;34m=\u001b[0m \u001b[0mgoldTgtStrs\u001b[0m\u001b[0;34m[\u001b[0m\u001b[0mindexes\u001b[0m\u001b[0;34m[\u001b[0m\u001b[0;36m0\u001b[0m\u001b[0;34m]\u001b[0m\u001b[0;34m]\u001b[0m\u001b[0;34m\u001b[0m\u001b[0m\n",
      "\u001b[0;31mNameError\u001b[0m: name 'sourceStrs' is not defined"
     ]
    }
   ],
   "source": [
    "testSrcGloveDistances = []\n",
    "testTgtGloveDistances = []\n",
    "source = sourceStrs[indexes[0]]\n",
    "sourceGlove = sentenceToGlove(source)\n",
    "goldTgt = goldTgtStrs[indexes[0]]\n",
    "goldTgtGlove = sentenceToGlove(goldTgt)\n",
    "\n",
    "for i, tgtStr in enumerate(targetStrs):\n",
    "    tgtStrGlove = sentenceToGlove(tgtStr)\n",
    "    if source != sourceStrs[indexes[i]]:\n",
    "        source = sourceStrs[indexes[i]]\n",
    "        sourceGlove = sentenceToGlove(source)\n",
    "        goldTgt = goldTgtStrs[indexes[i]]\n",
    "        goldTgtGlove = sentenceToGlove(goldTgt)\n",
    "    srcCosineSim = getCosineSim(sourceGlove, tgtStrGlove)\n",
    "    testSrcGloveDistances.append(srcCosineSim)\n",
    "    goldTgtCosineSim = getCosineSim(goldTgtGlove, tgtStrGlove)\n",
    "    testTgtGloveDistances.append(goldTgtCosineSim)"
   ]
  },
  {
   "cell_type": "code",
   "execution_count": null,
   "metadata": {
    "collapsed": true
   },
   "outputs": [],
   "source": [
    "np.savetxt(\"test_src_glove_dist.txt\", testSrcGloveDistances, fmt='%f')\n",
    "np.savetxt(\"test_tgt_glove_dist.txt\", testTgtGloveDistances, fmt='%f')"
   ]
  },
  {
   "cell_type": "code",
   "execution_count": 10,
   "metadata": {
    "collapsed": true
   },
   "outputs": [],
   "source": [
    "testSrcL1Distances = []\n",
    "testSrcL2Distances = []\n",
    "testTgtL1Distances = []\n",
    "testTgtL2Distances = []\n",
    "\n",
    "source = sourceStrs[indexes[0]]\n",
    "sourceGlove = sentenceToGlove(source)\n",
    "goldTgt = goldTgtStrs[indexes[0]]\n",
    "goldTgtGlove = sentenceToGlove(goldTgt)\n",
    "\n",
    "for i, tgtStr in enumerate(targetStrs):\n",
    "    tgtStrGlove = sentenceToGlove(tgtStr)\n",
    "    if source != sourceStrs[indexes[i]]:\n",
    "        source = sourceStrs[indexes[i]]\n",
    "        sourceGlove = sentenceToGlove(source)\n",
    "        goldTgt = goldTgtStrs[indexes[i]]\n",
    "        goldTgtGlove = sentenceToGlove(goldTgt)\n",
    "    testSrcL1Distances.append(getL1Dist(sourceGlove, tgtStrGlove))\n",
    "    testSrcL2Distances.append(getL2Dist(sourceGlove, tgtStrGlove))\n",
    "    testTgtL1Distances.append(getL1Dist(goldTgtGlove, tgtStrGlove))\n",
    "    testTgtL2Distances.append(getL2Dist(goldTgtGlove, tgtStrGlove))"
   ]
  },
  {
   "cell_type": "code",
   "execution_count": 11,
   "metadata": {
    "collapsed": true
   },
   "outputs": [],
   "source": [
    "np.savetxt(\"test_src_L1_dist.txt\", testSrcL1Distances, fmt='%f')\n",
    "np.savetxt(\"test_src_L2_dist.txt\", testSrcL2Distances, fmt='%f')\n",
    "np.savetxt(\"test_tgt_L1_dist.txt\", testTgtL1Distances, fmt='%f')\n",
    "np.savetxt(\"test_tgt_L2_dist.txt\", testTgtL2Distances, fmt='%f')"
   ]
  },
  {
   "cell_type": "code",
   "execution_count": null,
   "metadata": {
    "collapsed": true
   },
   "outputs": [],
   "source": []
  }
 ],
 "metadata": {
  "kernelspec": {
   "display_name": "Python 2",
   "language": "python",
   "name": "python2"
  },
  "language_info": {
   "codemirror_mode": {
    "name": "ipython",
    "version": 2
   },
   "file_extension": ".py",
   "mimetype": "text/x-python",
   "name": "python",
   "nbconvert_exporter": "python",
   "pygments_lexer": "ipython2",
   "version": "2.7.11"
  }
 },
 "nbformat": 4,
 "nbformat_minor": 0
}
